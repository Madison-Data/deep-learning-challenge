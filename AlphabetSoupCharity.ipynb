{
 "cells": [
  {
   "cell_type": "markdown",
   "metadata": {},
   "source": [
    "## Preprocessing"
   ]
  },
  {
   "cell_type": "code",
   "execution_count": 1,
   "metadata": {},
   "outputs": [
    {
     "name": "stdout",
     "output_type": "stream",
     "text": [
      "<class 'pandas.core.frame.DataFrame'>\n",
      "RangeIndex: 34299 entries, 0 to 34298\n",
      "Data columns (total 12 columns):\n",
      " #   Column                  Non-Null Count  Dtype \n",
      "---  ------                  --------------  ----- \n",
      " 0   EIN                     34299 non-null  int64 \n",
      " 1   NAME                    34299 non-null  object\n",
      " 2   APPLICATION_TYPE        34299 non-null  object\n",
      " 3   AFFILIATION             34299 non-null  object\n",
      " 4   CLASSIFICATION          34299 non-null  object\n",
      " 5   USE_CASE                34299 non-null  object\n",
      " 6   ORGANIZATION            34299 non-null  object\n",
      " 7   STATUS                  34299 non-null  int64 \n",
      " 8   INCOME_AMT              34299 non-null  object\n",
      " 9   SPECIAL_CONSIDERATIONS  34299 non-null  object\n",
      " 10  ASK_AMT                 34299 non-null  int64 \n",
      " 11  IS_SUCCESSFUL           34299 non-null  int64 \n",
      "dtypes: int64(4), object(8)\n",
      "memory usage: 3.1+ MB\n"
     ]
    }
   ],
   "source": [
    "# Import our dependencies\n",
    "from sklearn.model_selection import train_test_split\n",
    "from sklearn.preprocessing import StandardScaler\n",
    "import pandas as pd\n",
    "import tensorflow as tf\n",
    "\n",
    "#  Import and read the charity_data.csv.\n",
    "import pandas as pd \n",
    "application_df = pd.read_csv(\"Resources/charity_data.csv\")\n",
    "# application_df.head()\n",
    "application_df.info()\n"
   ]
  },
  {
   "cell_type": "code",
   "execution_count": 2,
   "metadata": {},
   "outputs": [
    {
     "name": "stderr",
     "output_type": "stream",
     "text": [
      "C:\\Users\\madis\\AppData\\Local\\Temp/ipykernel_15284/1538362199.py:3: FutureWarning: In a future version of pandas all arguments of DataFrame.drop except for the argument 'labels' will be keyword-only\n",
      "  application_df = application_df.drop([\"EIN\",\"NAME\"],1)\n"
     ]
    }
   ],
   "source": [
    "# Drop the non-beneficial ID columns, 'EIN' and 'NAME'.\n",
    "#  YOUR CODE GOES HERE\n",
    "application_df = application_df.drop([\"EIN\",\"NAME\"],1)"
   ]
  },
  {
   "cell_type": "code",
   "execution_count": 3,
   "metadata": {},
   "outputs": [
    {
     "data": {
      "text/plain": [
       "APPLICATION_TYPE            17\n",
       "AFFILIATION                  6\n",
       "CLASSIFICATION              71\n",
       "USE_CASE                     5\n",
       "ORGANIZATION                 4\n",
       "STATUS                       2\n",
       "INCOME_AMT                   9\n",
       "SPECIAL_CONSIDERATIONS       2\n",
       "ASK_AMT                   8747\n",
       "IS_SUCCESSFUL                2\n",
       "dtype: int64"
      ]
     },
     "execution_count": 3,
     "metadata": {},
     "output_type": "execute_result"
    }
   ],
   "source": [
    "# Determine the number of unique values in each column.\n",
    "#  YOUR CODE GOES HERE\n",
    "application_df.nunique()\n"
   ]
  },
  {
   "cell_type": "code",
   "execution_count": 4,
   "metadata": {},
   "outputs": [
    {
     "data": {
      "text/plain": [
       "T3     27037\n",
       "T4      1542\n",
       "T6      1216\n",
       "T5      1173\n",
       "T19     1065\n",
       "T8       737\n",
       "T7       725\n",
       "T10      528\n",
       "T9       156\n",
       "T13       66\n",
       "T12       27\n",
       "T2        16\n",
       "T25        3\n",
       "T14        3\n",
       "T29        2\n",
       "T15        2\n",
       "T17        1\n",
       "Name: APPLICATION_TYPE, dtype: int64"
      ]
     },
     "execution_count": 4,
     "metadata": {},
     "output_type": "execute_result"
    }
   ],
   "source": [
    "# Look at APPLICATION_TYPE value counts for binning\n",
    "#  YOUR CODE GOES HERE\n",
    "apptype_count=application_df.APPLICATION_TYPE.value_counts()\n",
    "apptype_count"
   ]
  },
  {
   "cell_type": "code",
   "execution_count": 5,
   "metadata": {},
   "outputs": [
    {
     "data": {
      "text/plain": [
       "T3       27037\n",
       "T4        1542\n",
       "T6        1216\n",
       "T5        1173\n",
       "T19       1065\n",
       "T8         737\n",
       "T7         725\n",
       "T10        528\n",
       "Other      276\n",
       "Name: APPLICATION_TYPE, dtype: int64"
      ]
     },
     "execution_count": 5,
     "metadata": {},
     "output_type": "execute_result"
    }
   ],
   "source": [
    "# Choose a cutoff value and create a list of application types to be replaced\n",
    "# use the variable name `application_types_to_replace`\n",
    "#  YOUR CODE GOES HERE\n",
    "application_types_to_replace = list(apptype_count[apptype_count < 500].index)\n",
    "\n",
    "# Replace in dataframe\n",
    "for app in application_types_to_replace:\n",
    "    application_df['APPLICATION_TYPE'] = application_df['APPLICATION_TYPE'].replace(app,\"Other\")\n",
    "\n",
    "# Check to make sure binning was successful\n",
    "application_df['APPLICATION_TYPE'].value_counts()"
   ]
  },
  {
   "cell_type": "code",
   "execution_count": 6,
   "metadata": {},
   "outputs": [
    {
     "name": "stdout",
     "output_type": "stream",
     "text": [
      "C1000    17326\n",
      "C2000     6074\n",
      "C1200     4837\n",
      "C3000     1918\n",
      "C2100     1883\n",
      "         ...  \n",
      "C4120        1\n",
      "C8210        1\n",
      "C2561        1\n",
      "C4500        1\n",
      "C2150        1\n",
      "Name: CLASSIFICATION, Length: 71, dtype: int64\n",
      "--------------------------------------------------\n",
      "Average: 483.0845070422535\n",
      "Median: 5.0\n"
     ]
    }
   ],
   "source": [
    "# Look at CLASSIFICATION value counts for binning\n",
    "#  YOUR CODE GOES HERE\n",
    "classification_count=application_df.CLASSIFICATION.value_counts()\n",
    "print(classification_count)\n",
    "print(\"-\"*50)\n",
    "print(f\"Average: {classification_count.mean()}\")\n",
    "print(f\"Median: {classification_count.median()}\") "
   ]
  },
  {
   "cell_type": "code",
   "execution_count": 7,
   "metadata": {},
   "outputs": [],
   "source": [
    "# You may find it helpful to look at CLASSIFICATION value counts >1\n",
    "#  YOUR CODE GOES HERE\n",
    "clfs_to_remove = pd.DataFrame(classification_count.loc[lambda x : x == 1])\n",
    "clfs_to_remove_list = clfs_to_remove.index.tolist()\n"
   ]
  },
  {
   "cell_type": "code",
   "execution_count": 8,
   "metadata": {},
   "outputs": [
    {
     "data": {
      "text/plain": [
       "C1000    17326\n",
       "C2000     6074\n",
       "C1200     4837\n",
       "C3000     1918\n",
       "C2100     1883\n",
       "Other     1484\n",
       "C7000      777\n",
       "Name: CLASSIFICATION, dtype: int64"
      ]
     },
     "execution_count": 8,
     "metadata": {},
     "output_type": "execute_result"
    }
   ],
   "source": [
    "# Choose a cutoff value and create a list of classifications to be replaced\n",
    "# use the variable name `classifications_to_replace`\n",
    "#  YOUR CODE GOES HERE\n",
    "classifications_to_replace = list(classification_count[classification_count < 500 ].index)\n",
    "\n",
    "# Replace in dataframe\n",
    "for cls in classifications_to_replace:\n",
    "    application_df['CLASSIFICATION'] = application_df['CLASSIFICATION'].replace(cls,\"Other\")\n",
    "    \n",
    "# Check to make sure binning was successful\n",
    "application_df['CLASSIFICATION'].value_counts()"
   ]
  },
  {
   "cell_type": "code",
   "execution_count": 35,
   "metadata": {},
   "outputs": [],
   "source": [
    "# Convert categorical data to numeric with `pd.get_dummies`\n",
    "#  YOUR CODE GOES HERE\n",
    "application_df_dummies = pd.get_dummies(application_df,\n",
    "                                        columns = [\"APPLICATION_TYPE\", \n",
    "                                                   \"AFFILIATION\", \n",
    "                                                   \"CLASSIFICATION\", \n",
    "                                                   \"USE_CASE\", \n",
    "                                                   \"ORGANIZATION\", \n",
    "                                                   \"INCOME_AMT\", \n",
    "                                                   \"SPECIAL_CONSIDERATIONS\"], \n",
    "                                        drop_first = True)\n"
   ]
  },
  {
   "cell_type": "code",
   "execution_count": 10,
   "metadata": {},
   "outputs": [],
   "source": [
    "# Split our preprocessed data into our features and target arrays\n",
    "#  YOUR CODE GOES HERE\n",
    "y = application_df_dummies.IS_SUCCESSFUL\n",
    "X = application_df_dummies.drop(columns=\"IS_SUCCESSFUL\")\n",
    "\n",
    "# Split the preprocessed data into a training and testing dataset\n",
    "#  YOUR CODE GOES HERE\n",
    "X_train, X_test, y_train, y_test = train_test_split(X, y, random_state=13)"
   ]
  },
  {
   "cell_type": "code",
   "execution_count": 11,
   "metadata": {},
   "outputs": [],
   "source": [
    "# Create a StandardScaler instances\n",
    "scaler = StandardScaler()\n",
    "\n",
    "# Fit the StandardScaler\n",
    "X_scaler = scaler.fit(X_train)\n",
    "\n",
    "# Scale the data\n",
    "X_train_scaled = X_scaler.transform(X_train)\n",
    "X_test_scaled = X_scaler.transform(X_test)"
   ]
  },
  {
   "cell_type": "markdown",
   "metadata": {},
   "source": [
    "## Compile, Train and Evaluate the Model"
   ]
  },
  {
   "cell_type": "code",
   "execution_count": 12,
   "metadata": {},
   "outputs": [
    {
     "data": {
      "text/plain": [
       "37"
      ]
     },
     "execution_count": 12,
     "metadata": {},
     "output_type": "execute_result"
    }
   ],
   "source": [
    "input_feature_count = len(X_train_scaled[0])\n",
    "input_feature_count"
   ]
  },
  {
   "cell_type": "code",
   "execution_count": 25,
   "metadata": {},
   "outputs": [
    {
     "name": "stdout",
     "output_type": "stream",
     "text": [
      "Model: \"sequential_1\"\n",
      "_________________________________________________________________\n",
      " Layer (type)                Output Shape              Param #   \n",
      "=================================================================\n",
      " dense_5 (Dense)             (None, 150)               5700      \n",
      "                                                                 \n",
      " dense_6 (Dense)             (None, 50)                7550      \n",
      "                                                                 \n",
      " dense_7 (Dense)             (None, 10)                510       \n",
      "                                                                 \n",
      " dense_8 (Dense)             (None, 10)                110       \n",
      "                                                                 \n",
      " dense_9 (Dense)             (None, 1)                 11        \n",
      "                                                                 \n",
      "=================================================================\n",
      "Total params: 13,881\n",
      "Trainable params: 13,881\n",
      "Non-trainable params: 0\n",
      "_________________________________________________________________\n"
     ]
    }
   ],
   "source": [
    "# Define the model - deep neural net, i.e., the number of input features and hidden nodes for each layer.\n",
    "#  YOUR CODE GOES HERE\n",
    "input_feature_count = len(X_train_scaled[0])\n",
    "input_feature_count\n",
    "\n",
    "hidden_nodes_layer1 = 150\n",
    "hidden_nodes_layer2 = 50\n",
    "hidden_nodes_layer3 = 10\n",
    "hidden_nodes_layer4 = 3\n",
    "\n",
    "nn = tf.keras.models.Sequential()\n",
    "\n",
    "# First hidden layer\n",
    "#  YOUR CODE GOES HERE\n",
    "nn.add(tf.keras.layers.Dense(units=hidden_nodes_layer1, activation=\"sigmoid\", input_dim = input_feature_count))\n",
    "\n",
    "# Second hidden layer\n",
    "#  YOUR CODE GOES HERE\n",
    "nn.add(tf.keras.layers.Dense(units=hidden_nodes_layer2, activation=\"relu\"))\n",
    "\n",
    "# Added a third hidden layer to improve accuracy\n",
    "nn.add(tf.keras.layers.Dense(units=hidden_nodes_layer3, activation=\"softmax\"))\n",
    "\n",
    "# Added a fourth hidden layer to improve accuracy\n",
    "nn.add(tf.keras.layers.Dense(units=hidden_nodes_layer3, activation=\"tanh\"))\n",
    "\n",
    "# Output layer\n",
    "#  YOUR CODE GOES HERE\n",
    "nn.add(tf.keras.layers.Dense(units=1, activation=\"sigmoid\"))\n",
    "\n",
    "# Check the structure of the model\n",
    "nn.summary()"
   ]
  },
  {
   "cell_type": "code",
   "execution_count": 26,
   "metadata": {},
   "outputs": [],
   "source": [
    "# Compile the model\n",
    "#  YOUR CODE GOES HERE\n",
    "#  nn.compile(loss=\"binary_crossentropy\", optimizer=\"adam\", metrics=[\"accuracy\"])\n",
    "nn.compile(loss=\"binary_crossentropy\", optimizer=\"adam\", metrics=[\"accuracy\"])"
   ]
  },
  {
   "cell_type": "code",
   "execution_count": 27,
   "metadata": {
    "scrolled": true
   },
   "outputs": [
    {
     "name": "stdout",
     "output_type": "stream",
     "text": [
      "Epoch 1/100\n",
      "804/804 [==============================] - 1s 737us/step - loss: 0.5909 - accuracy: 0.7084\n",
      "Epoch 2/100\n",
      "804/804 [==============================] - 1s 748us/step - loss: 0.5697 - accuracy: 0.7260\n",
      "Epoch 3/100\n",
      "804/804 [==============================] - 1s 735us/step - loss: 0.5619 - accuracy: 0.7285\n",
      "Epoch 4/100\n",
      "804/804 [==============================] - 1s 736us/step - loss: 0.5606 - accuracy: 0.7293\n",
      "Epoch 5/100\n",
      "804/804 [==============================] - 1s 736us/step - loss: 0.5591 - accuracy: 0.7285\n",
      "Epoch 6/100\n",
      "804/804 [==============================] - 1s 734us/step - loss: 0.5571 - accuracy: 0.7294\n",
      "Epoch 7/100\n",
      "804/804 [==============================] - 1s 736us/step - loss: 0.5564 - accuracy: 0.7299\n",
      "Epoch 8/100\n",
      "804/804 [==============================] - 1s 740us/step - loss: 0.5547 - accuracy: 0.7292\n",
      "Epoch 9/100\n",
      "804/804 [==============================] - 1s 735us/step - loss: 0.5544 - accuracy: 0.7306\n",
      "Epoch 10/100\n",
      "804/804 [==============================] - 1s 750us/step - loss: 0.5535 - accuracy: 0.7304\n",
      "Epoch 11/100\n",
      "804/804 [==============================] - 1s 738us/step - loss: 0.5520 - accuracy: 0.7306\n",
      "Epoch 12/100\n",
      "804/804 [==============================] - 1s 733us/step - loss: 0.5523 - accuracy: 0.7318\n",
      "Epoch 13/100\n",
      "804/804 [==============================] - 1s 745us/step - loss: 0.5511 - accuracy: 0.7319\n",
      "Epoch 14/100\n",
      "804/804 [==============================] - 1s 735us/step - loss: 0.5511 - accuracy: 0.7312\n",
      "Epoch 15/100\n",
      "804/804 [==============================] - 1s 733us/step - loss: 0.5501 - accuracy: 0.7309\n",
      "Epoch 16/100\n",
      "804/804 [==============================] - 1s 733us/step - loss: 0.5495 - accuracy: 0.7332\n",
      "Epoch 17/100\n",
      "804/804 [==============================] - 1s 733us/step - loss: 0.5491 - accuracy: 0.7322\n",
      "Epoch 18/100\n",
      "804/804 [==============================] - 1s 732us/step - loss: 0.5483 - accuracy: 0.7328\n",
      "Epoch 19/100\n",
      "804/804 [==============================] - 1s 738us/step - loss: 0.5487 - accuracy: 0.7315\n",
      "Epoch 20/100\n",
      "804/804 [==============================] - 1s 733us/step - loss: 0.5477 - accuracy: 0.7325\n",
      "Epoch 21/100\n",
      "804/804 [==============================] - 1s 738us/step - loss: 0.5471 - accuracy: 0.7330\n",
      "Epoch 22/100\n",
      "804/804 [==============================] - 1s 732us/step - loss: 0.5471 - accuracy: 0.7324\n",
      "Epoch 23/100\n",
      "804/804 [==============================] - 1s 735us/step - loss: 0.5461 - accuracy: 0.7336\n",
      "Epoch 24/100\n",
      "804/804 [==============================] - 1s 736us/step - loss: 0.5461 - accuracy: 0.7337\n",
      "Epoch 25/100\n",
      "804/804 [==============================] - 1s 733us/step - loss: 0.5455 - accuracy: 0.7339\n",
      "Epoch 26/100\n",
      "804/804 [==============================] - 1s 733us/step - loss: 0.5456 - accuracy: 0.7343\n",
      "Epoch 27/100\n",
      "804/804 [==============================] - 1s 745us/step - loss: 0.5451 - accuracy: 0.7347\n",
      "Epoch 28/100\n",
      "804/804 [==============================] - 1s 730us/step - loss: 0.5443 - accuracy: 0.7344\n",
      "Epoch 29/100\n",
      "804/804 [==============================] - 1s 735us/step - loss: 0.5441 - accuracy: 0.7341\n",
      "Epoch 30/100\n",
      "804/804 [==============================] - 1s 733us/step - loss: 0.5439 - accuracy: 0.7357\n",
      "Epoch 31/100\n",
      "804/804 [==============================] - 1s 737us/step - loss: 0.5439 - accuracy: 0.7350\n",
      "Epoch 32/100\n",
      "804/804 [==============================] - 1s 735us/step - loss: 0.5436 - accuracy: 0.7341\n",
      "Epoch 33/100\n",
      "804/804 [==============================] - 1s 736us/step - loss: 0.5429 - accuracy: 0.7355\n",
      "Epoch 34/100\n",
      "804/804 [==============================] - 1s 731us/step - loss: 0.5430 - accuracy: 0.7355\n",
      "Epoch 35/100\n",
      "804/804 [==============================] - 1s 737us/step - loss: 0.5425 - accuracy: 0.7362\n",
      "Epoch 36/100\n",
      "804/804 [==============================] - 1s 731us/step - loss: 0.5422 - accuracy: 0.7371\n",
      "Epoch 37/100\n",
      "804/804 [==============================] - 1s 735us/step - loss: 0.5418 - accuracy: 0.7359\n",
      "Epoch 38/100\n",
      "804/804 [==============================] - 1s 737us/step - loss: 0.5419 - accuracy: 0.7363\n",
      "Epoch 39/100\n",
      "804/804 [==============================] - 1s 743us/step - loss: 0.5419 - accuracy: 0.7363\n",
      "Epoch 40/100\n",
      "804/804 [==============================] - 1s 736us/step - loss: 0.5414 - accuracy: 0.7363\n",
      "Epoch 41/100\n",
      "804/804 [==============================] - 1s 737us/step - loss: 0.5413 - accuracy: 0.7361\n",
      "Epoch 42/100\n",
      "804/804 [==============================] - 1s 732us/step - loss: 0.5415 - accuracy: 0.7366\n",
      "Epoch 43/100\n",
      "804/804 [==============================] - 1s 874us/step - loss: 0.5408 - accuracy: 0.7374\n",
      "Epoch 44/100\n",
      "804/804 [==============================] - 1s 756us/step - loss: 0.5404 - accuracy: 0.7388\n",
      "Epoch 45/100\n",
      "804/804 [==============================] - 1s 737us/step - loss: 0.5406 - accuracy: 0.7366\n",
      "Epoch 46/100\n",
      "804/804 [==============================] - 1s 803us/step - loss: 0.5403 - accuracy: 0.7376\n",
      "Epoch 47/100\n",
      "804/804 [==============================] - 1s 768us/step - loss: 0.5402 - accuracy: 0.7374\n",
      "Epoch 48/100\n",
      "804/804 [==============================] - 1s 807us/step - loss: 0.5404 - accuracy: 0.7379\n",
      "Epoch 49/100\n",
      "804/804 [==============================] - 1s 761us/step - loss: 0.5400 - accuracy: 0.7377\n",
      "Epoch 50/100\n",
      "804/804 [==============================] - 1s 743us/step - loss: 0.5397 - accuracy: 0.7376\n",
      "Epoch 51/100\n",
      "804/804 [==============================] - 1s 736us/step - loss: 0.5399 - accuracy: 0.7378\n",
      "Epoch 52/100\n",
      "804/804 [==============================] - 1s 739us/step - loss: 0.5391 - accuracy: 0.7384\n",
      "Epoch 53/100\n",
      "804/804 [==============================] - 1s 736us/step - loss: 0.5389 - accuracy: 0.7385\n",
      "Epoch 54/100\n",
      "804/804 [==============================] - 1s 742us/step - loss: 0.5390 - accuracy: 0.7385\n",
      "Epoch 55/100\n",
      "804/804 [==============================] - 1s 745us/step - loss: 0.5387 - accuracy: 0.7394\n",
      "Epoch 56/100\n",
      "804/804 [==============================] - 1s 738us/step - loss: 0.5388 - accuracy: 0.7385\n",
      "Epoch 57/100\n",
      "804/804 [==============================] - 1s 770us/step - loss: 0.5386 - accuracy: 0.7390\n",
      "Epoch 58/100\n",
      "804/804 [==============================] - 1s 753us/step - loss: 0.5386 - accuracy: 0.7376\n",
      "Epoch 59/100\n",
      "804/804 [==============================] - 1s 765us/step - loss: 0.5390 - accuracy: 0.7393\n",
      "Epoch 60/100\n",
      "804/804 [==============================] - 1s 826us/step - loss: 0.5380 - accuracy: 0.7387\n",
      "Epoch 61/100\n",
      "804/804 [==============================] - 1s 782us/step - loss: 0.5380 - accuracy: 0.7386\n",
      "Epoch 62/100\n",
      "804/804 [==============================] - 1s 739us/step - loss: 0.5380 - accuracy: 0.7388\n",
      "Epoch 63/100\n",
      "804/804 [==============================] - 1s 740us/step - loss: 0.5378 - accuracy: 0.7385\n",
      "Epoch 64/100\n",
      "804/804 [==============================] - 1s 742us/step - loss: 0.5379 - accuracy: 0.7388\n",
      "Epoch 65/100\n",
      "804/804 [==============================] - 1s 740us/step - loss: 0.5378 - accuracy: 0.7390\n",
      "Epoch 66/100\n",
      "804/804 [==============================] - 1s 752us/step - loss: 0.5377 - accuracy: 0.7389\n",
      "Epoch 67/100\n",
      "804/804 [==============================] - 1s 742us/step - loss: 0.5379 - accuracy: 0.7386\n",
      "Epoch 68/100\n",
      "804/804 [==============================] - 1s 738us/step - loss: 0.5376 - accuracy: 0.7395\n",
      "Epoch 69/100\n",
      "804/804 [==============================] - 1s 733us/step - loss: 0.5372 - accuracy: 0.7404\n",
      "Epoch 70/100\n",
      "804/804 [==============================] - 1s 736us/step - loss: 0.5375 - accuracy: 0.7392\n",
      "Epoch 71/100\n",
      "804/804 [==============================] - 1s 743us/step - loss: 0.5374 - accuracy: 0.7397\n",
      "Epoch 72/100\n",
      "804/804 [==============================] - 1s 736us/step - loss: 0.5372 - accuracy: 0.7384\n",
      "Epoch 73/100\n",
      "804/804 [==============================] - 1s 737us/step - loss: 0.5375 - accuracy: 0.7394\n",
      "Epoch 74/100\n",
      "804/804 [==============================] - 1s 738us/step - loss: 0.5370 - accuracy: 0.7393\n",
      "Epoch 75/100\n",
      "804/804 [==============================] - 1s 745us/step - loss: 0.5370 - accuracy: 0.7397\n",
      "Epoch 76/100\n",
      "804/804 [==============================] - 1s 735us/step - loss: 0.5371 - accuracy: 0.7395\n",
      "Epoch 77/100\n",
      "804/804 [==============================] - 1s 738us/step - loss: 0.5368 - accuracy: 0.7393\n",
      "Epoch 78/100\n",
      "804/804 [==============================] - 1s 737us/step - loss: 0.5368 - accuracy: 0.7398\n",
      "Epoch 79/100\n"
     ]
    },
    {
     "name": "stdout",
     "output_type": "stream",
     "text": [
      "804/804 [==============================] - 1s 736us/step - loss: 0.5371 - accuracy: 0.7394\n",
      "Epoch 80/100\n",
      "804/804 [==============================] - 1s 732us/step - loss: 0.5364 - accuracy: 0.7399\n",
      "Epoch 81/100\n",
      "804/804 [==============================] - 1s 735us/step - loss: 0.5368 - accuracy: 0.7389\n",
      "Epoch 82/100\n",
      "804/804 [==============================] - 1s 732us/step - loss: 0.5363 - accuracy: 0.7399\n",
      "Epoch 83/100\n",
      "804/804 [==============================] - 1s 735us/step - loss: 0.5363 - accuracy: 0.7393\n",
      "Epoch 84/100\n",
      "804/804 [==============================] - 1s 731us/step - loss: 0.5361 - accuracy: 0.7402\n",
      "Epoch 85/100\n",
      "804/804 [==============================] - 1s 736us/step - loss: 0.5365 - accuracy: 0.7400\n",
      "Epoch 86/100\n",
      "804/804 [==============================] - 1s 733us/step - loss: 0.5360 - accuracy: 0.7400\n",
      "Epoch 87/100\n",
      "804/804 [==============================] - 1s 737us/step - loss: 0.5362 - accuracy: 0.7405\n",
      "Epoch 88/100\n",
      "804/804 [==============================] - 1s 732us/step - loss: 0.5361 - accuracy: 0.7402\n",
      "Epoch 89/100\n",
      "804/804 [==============================] - 1s 731us/step - loss: 0.5358 - accuracy: 0.7395\n",
      "Epoch 90/100\n",
      "804/804 [==============================] - 1s 733us/step - loss: 0.5358 - accuracy: 0.7406\n",
      "Epoch 91/100\n",
      "804/804 [==============================] - 1s 749us/step - loss: 0.5362 - accuracy: 0.7397\n",
      "Epoch 92/100\n",
      "804/804 [==============================] - 1s 731us/step - loss: 0.5355 - accuracy: 0.7403\n",
      "Epoch 93/100\n",
      "804/804 [==============================] - 1s 736us/step - loss: 0.5358 - accuracy: 0.7407\n",
      "Epoch 94/100\n",
      "804/804 [==============================] - 1s 732us/step - loss: 0.5355 - accuracy: 0.7403\n",
      "Epoch 95/100\n",
      "804/804 [==============================] - 1s 736us/step - loss: 0.5358 - accuracy: 0.7402\n",
      "Epoch 96/100\n",
      "804/804 [==============================] - 1s 732us/step - loss: 0.5356 - accuracy: 0.7398\n",
      "Epoch 97/100\n",
      "804/804 [==============================] - 1s 738us/step - loss: 0.5354 - accuracy: 0.7396\n",
      "Epoch 98/100\n",
      "804/804 [==============================] - 1s 760us/step - loss: 0.5353 - accuracy: 0.7407\n",
      "Epoch 99/100\n",
      "804/804 [==============================] - 1s 748us/step - loss: 0.5351 - accuracy: 0.7397\n",
      "Epoch 100/100\n",
      "804/804 [==============================] - 1s 737us/step - loss: 0.5354 - accuracy: 0.7403\n"
     ]
    }
   ],
   "source": [
    "# Train the model\n",
    "#  YOUR CODE GOES HERE\n",
    "fit_model = nn.fit(X_train_scaled, y_train, epochs=100)"
   ]
  },
  {
   "cell_type": "code",
   "execution_count": 28,
   "metadata": {},
   "outputs": [
    {
     "name": "stdout",
     "output_type": "stream",
     "text": [
      "268/268 - 0s - loss: 0.5548 - accuracy: 0.7293 - 201ms/epoch - 749us/step\n",
      "Loss: 0.5548244714736938, Accuracy: 0.7293294668197632\n"
     ]
    }
   ],
   "source": [
    "# Evaluate the model using the test data\n",
    "model_loss, model_accuracy = nn.evaluate(X_test_scaled,y_test,verbose=2)\n",
    "print(f\"Loss: {model_loss}, Accuracy: {model_accuracy}\")"
   ]
  },
  {
   "cell_type": "code",
   "execution_count": 20,
   "metadata": {},
   "outputs": [
    {
     "data": {
      "text/plain": [
       "10"
      ]
     },
     "execution_count": 20,
     "metadata": {},
     "output_type": "execute_result"
    }
   ],
   "source": [
    "len(nn.get_weights())"
   ]
  },
  {
   "cell_type": "code",
   "execution_count": 21,
   "metadata": {},
   "outputs": [],
   "source": [
    "# Export our model to HDF5 file\n",
    "#  YOUR CODE GOES HERE\n",
    "nn.save(\"AlphabetSoupCharity_Optimization.h5\")"
   ]
  },
  {
   "cell_type": "code",
   "execution_count": null,
   "metadata": {},
   "outputs": [],
   "source": []
  }
 ],
 "metadata": {
  "kernelspec": {
   "display_name": "Python 3 (ipykernel)",
   "language": "python",
   "name": "python3"
  },
  "language_info": {
   "codemirror_mode": {
    "name": "ipython",
    "version": 3
   },
   "file_extension": ".py",
   "mimetype": "text/x-python",
   "name": "python",
   "nbconvert_exporter": "python",
   "pygments_lexer": "ipython3",
   "version": "3.9.7"
  }
 },
 "nbformat": 4,
 "nbformat_minor": 4
}
